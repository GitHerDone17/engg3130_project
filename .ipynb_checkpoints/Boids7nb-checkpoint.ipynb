{
 "cells": [
  {
   "cell_type": "markdown",
   "metadata": {},
   "source": [
    "# Boids\n",
    "\n",
    "Code examples from [Think Complexity, 2nd edition](https://thinkcomplex.com).\n",
    "\n",
    "Copyright 2016 Allen Downey, [MIT License](http://opensource.org/licenses/MIT)"
   ]
  },
  {
   "cell_type": "markdown",
   "metadata": {},
   "source": [
    "This is an adaptation of Allen Downey's `Boids7.py` to the Jupyter Notebook.\n",
    "\n",
    "Note that `vpython` will not run on Python 3.13."
   ]
  },
  {
   "cell_type": "markdown",
   "metadata": {},
   "source": [
    "Controls:\n",
    "- Double-click: place carrot\n",
    "- Shift-drag: pan\n",
    "- Control-drag: rotate\n",
    "- Alt(Option)-drag: zoom"
   ]
  },
  {
   "cell_type": "code",
   "execution_count": 1,
   "metadata": {
    "ExecuteTime": {
     "end_time": "2025-03-27T21:37:35.157163Z",
     "start_time": "2025-03-27T21:37:34.867426Z"
    }
   },
   "outputs": [
    {
     "data": {
      "text/html": [
       "<div id=\"glowscript\" class=\"glowscript\"></div>"
      ],
      "text/plain": [
       "<IPython.core.display.HTML object>"
      ]
     },
     "metadata": {},
     "output_type": "display_data"
    },
    {
     "data": {
      "application/javascript": [
       "if (typeof Jupyter !== \"undefined\") { window.__context = { glowscript_container: $(\"#glowscript\").removeAttr(\"id\")};}else{ element.textContent = ' ';}"
      ],
      "text/plain": [
       "<IPython.core.display.Javascript object>"
      ]
     },
     "metadata": {},
     "output_type": "display_data"
    },
    {
     "data": {
      "text/html": [
       "<div id=\"glowscript\" class=\"glowscript\"></div>"
      ],
      "text/plain": [
       "<IPython.core.display.HTML object>"
      ]
     },
     "metadata": {},
     "output_type": "display_data"
    },
    {
     "data": {
      "application/javascript": [
       "if (typeof Jupyter !== \"undefined\") { window.__context = { glowscript_container: $(\"#glowscript\").removeAttr(\"id\")};}else{ element.textContent = ' ';}"
      ],
      "text/plain": [
       "<IPython.core.display.Javascript object>"
      ]
     },
     "metadata": {},
     "output_type": "display_data"
    }
   ],
   "source": [
    "\"\"\" Code example from Think Complexity, by Allen Downey.\n",
    "\n",
    "Original code by Matt Aasted, modified by Allen Downey.\n",
    "\n",
    "Based on Reynolds, \"Flocks, Herds and Schools\" and\n",
    "Flake, \"The Computational Beauty of Nature.\"\n",
    "\n",
    "Copyright 2011 Allen B. Downey.\n",
    "Distributed under the MIT License.\n",
    "\"\"\"\n",
    "try:\n",
    "    from vpython import *\n",
    "except:\n",
    "    print(\"This program requires VPython 7, which you can read about\")\n",
    "    print(\"at http://vpython.org/.  If you are using Anaconda, you can\")\n",
    "    print(\"install VPython by running the following on the command line:\")\n",
    "    print(\"conda install -c vpython vpython\")\n",
    "    raise ImportError\n",
    "\n",
    "scene = canvas() \n",
    "import numpy as np"
   ]
  },
  {
   "cell_type": "markdown",
   "metadata": {},
   "source": [
    "Note that the canvas will be placed immediately above this cell (i.e. you may need to scroll up after executing the cells below)."
   ]
  },
  {
   "cell_type": "code",
   "execution_count": 2,
   "metadata": {
    "ExecuteTime": {
     "end_time": "2025-03-27T21:37:38.496845Z",
     "start_time": "2025-03-27T21:37:38.467375Z"
    }
   },
   "outputs": [],
   "source": [
    "null_vector = vector(0,0,0)\n",
    "\n",
    "\n",
    "def random_vector(a, b):\n",
    "    \"\"\"Create a vector with each element uniformly distributed in [a, b).\"\"\"\n",
    "    coords = np.random.uniform(a, b, size=3)\n",
    "    return vector(*coords)\n",
    "\n",
    "\n",
    "def limit_vector(vect):\n",
    "    \"\"\"If the magnitude is greater than 1, set it to 1\"\"\"\n",
    "    if vect.mag > 1:\n",
    "        vect.mag = 1\n",
    "    return vect\n",
    "\n",
    "\n",
    "class Boid(cone):\n",
    "    \"\"\"A Boid is a VPython cone with a velocity and an axis.\"\"\"\n",
    "\n",
    "    def __init__(self, radius=0.03, length=0.1):\n",
    "        pos = random_vector(0, 1)\n",
    "        self.vel = random_vector(0, 1).norm()\n",
    "        cone.__init__(self, pos=pos, radius=radius, length=length)\n",
    "        self.axis = length * self.vel\n",
    "\n",
    "    def get_neighbors(self, boids, radius, angle):\n",
    "        \"\"\"Return a list of neighbors within a field of view.\n",
    "\n",
    "        boids: list of boids\n",
    "        radius: field of view radius\n",
    "        angle: field of view angle in radians\n",
    "\n",
    "        returns: list of Boid\n",
    "        \"\"\"\n",
    "        neighbors = []\n",
    "        for boid in boids:\n",
    "            if boid is self:\n",
    "                continue\n",
    "            offset = boid.pos - self.pos\n",
    "\n",
    "            # if not in range, skip it\n",
    "            if offset.mag > radius:\n",
    "                continue\n",
    "\n",
    "            # if not within viewing angle, skip it\n",
    "            diff = self.vel.diff_angle(offset)\n",
    "            if abs(diff) > angle:\n",
    "                continue\n",
    "\n",
    "            # otherwise add it to the list\n",
    "            neighbors.append(boid)\n",
    "\n",
    "        return neighbors\n",
    "\n",
    "    def center(self, boids, radius=1, angle=1):\n",
    "        \"\"\"Find the center of mass of other boids in range and\n",
    "        return a vector pointing toward it.\"\"\"\n",
    "        neighbors = self.get_neighbors(boids, radius, angle)\n",
    "        vecs = [boid.pos for boid in neighbors]\n",
    "        return self.vector_toward_center(vecs)\n",
    "\n",
    "    def vector_toward_center(self, vecs):\n",
    "        \"\"\"Vector from self to the mean of vecs.\n",
    "\n",
    "        vecs: sequence of vector\n",
    "\n",
    "        returns: Vector\n",
    "        \"\"\"\n",
    "        if vecs:\n",
    "            center = np.mean(vecs)\n",
    "            toward = vector(center - self.pos)\n",
    "            return limit_vector(toward)\n",
    "        else:\n",
    "            return null_vector\n",
    "\n",
    "    def avoid(self, boids, carrot, radius=0.3, angle=np.pi):\n",
    "        \"\"\"Find the center of mass of all objects in range and\n",
    "        return a vector in the opposite direction, with magnitude\n",
    "        proportional to the inverse of the distance (up to a limit).\"\"\"\n",
    "        objects = boids + [carrot]\n",
    "        neighbors = self.get_neighbors(objects, radius, angle)\n",
    "        vecs = [boid.pos for boid in neighbors]\n",
    "        return -self.vector_toward_center(vecs)\n",
    "\n",
    "    def align(self, boids, radius=0.5, angle=1):\n",
    "        \"\"\"Return the average heading of other boids in range.\n",
    "\n",
    "        boids: list of Boids\n",
    "        \"\"\"\n",
    "        neighbors = self.get_neighbors(boids, radius, angle)\n",
    "        vecs = [boid.vel for boid in neighbors]\n",
    "        return self.vector_toward_center(vecs)\n",
    "\n",
    "    def love(self, carrot):\n",
    "        \"\"\"Returns a vector pointing toward the carrot.\"\"\"\n",
    "        toward = carrot.pos - self.pos\n",
    "        return limit_vector(toward)\n",
    "\n",
    "    def set_goal(self, boids, carrot):\n",
    "        \"\"\"Sets the goal to be the weighted sum of the goal vectors.\"\"\"\n",
    "\n",
    "        # weights for various rules\n",
    "        w_avoid = 10\n",
    "        w_center = 3\n",
    "        w_align = 1\n",
    "        w_love = 10\n",
    "\n",
    "        self.goal = (w_center * self.center(boids) +\n",
    "                     w_avoid * self.avoid(boids, carrot) +\n",
    "                     w_align * self.align(boids) +\n",
    "                     w_love * self.love(carrot))\n",
    "        self.goal.mag = 1\n",
    "\n",
    "    def move(self, mu=0.1, dt=0.1):\n",
    "        \"\"\"Update the velocity, position and axis vectors.\n",
    "\n",
    "        mu: how fast the boids can turn (maneuverability).\n",
    "        dt: time step\n",
    "        \"\"\"\n",
    "\n",
    "        self.vel = (1-mu) * self.vel + mu * self.goal\n",
    "        self.vel.mag = 1\n",
    "        self.pos += dt * self.vel\n",
    "        self.axis = self.length * self.vel\n",
    "\n",
    "\n",
    "class World(object):\n",
    "\n",
    "    def __init__(self, n=10):\n",
    "        \"\"\"Create n Boids and one carrot.\n",
    "\n",
    "        tracking: indicates whether the carrot follows the mouse\n",
    "        \"\"\"\n",
    "        self.boids = [Boid() for i in range(n)]\n",
    "        self.carrot = sphere(pos=vector(1,0,0),\n",
    "                             radius=0.1,\n",
    "                             color=vector(1,0,0))\n",
    "        self.tracking = False\n",
    "\n",
    "    def step(self):\n",
    "        \"\"\"Compute one time step.\"\"\"\n",
    "        # move the boids\n",
    "        for boid in self.boids:\n",
    "            boid.set_goal(self.boids, self.carrot)\n",
    "            boid.move()\n",
    "\n",
    "        # if we're tracking, move the carrot\n",
    "        if self.tracking:\n",
    "            self.carrot.pos = scene.mouse.pos"
   ]
  },
  {
   "cell_type": "code",
   "execution_count": 4,
   "metadata": {
    "ExecuteTime": {
     "end_time": "2025-03-27T21:40:25.079537Z",
     "start_time": "2025-03-27T21:40:24.996337Z"
    }
   },
   "outputs": [
    {
     "name": "stdout",
     "output_type": "stream",
     "text": [
      "Tracking turned off, stopping the loop.\n"
     ]
    }
   ],
   "source": [
    "n = 20\n",
    "size = 5\n",
    "\n",
    "world = World(n)\n",
    "scene.center = world.carrot.pos\n",
    "scene.autoscale = False\n",
    "\n",
    "def toggle_tracking(evt):\n",
    "    \"\"\"If we're currently tracking, turn it off, and vice versa.\n",
    "    \"\"\"\n",
    "    world.tracking = not world.tracking\n",
    "\n",
    "# when the user clicks, toggle tracking.\n",
    "scene.bind('click', toggle_tracking)\n",
    "\n",
    "while 1:\n",
    "    rate(10)\n",
    "    world.step()\n",
    "    \n",
    "    if not world.tracking:\n",
    "        print(\"Tracking turned off, stopping the loop.\")\n",
    "        break"
   ]
  },
  {
   "cell_type": "code",
   "execution_count": null,
   "metadata": {},
   "outputs": [],
   "source": []
  }
 ],
 "metadata": {
  "hide_input": false,
  "kernelspec": {
   "display_name": "Python 3 (ipykernel)",
   "language": "python",
   "name": "python3"
  },
  "language_info": {
   "codemirror_mode": {
    "name": "ipython",
    "version": 3
   },
   "file_extension": ".py",
   "mimetype": "text/x-python",
   "name": "python",
   "nbconvert_exporter": "python",
   "pygments_lexer": "ipython3",
   "version": "3.11.11"
  },
  "nbTranslate": {
   "displayLangs": [
    "*"
   ],
   "hotkey": "alt-t",
   "langInMainMenu": true,
   "sourceLang": "en",
   "targetLang": "fr",
   "useGoogleTranslate": true
  },
  "varInspector": {
   "cols": {
    "lenName": 16,
    "lenType": 16,
    "lenVar": 40
   },
   "kernels_config": {
    "python": {
     "delete_cmd_postfix": "",
     "delete_cmd_prefix": "del ",
     "library": "var_list.py",
     "varRefreshCmd": "print(var_dic_list())"
    },
    "r": {
     "delete_cmd_postfix": ") ",
     "delete_cmd_prefix": "rm(",
     "library": "var_list.r",
     "varRefreshCmd": "cat(var_dic_list()) "
    }
   },
   "types_to_exclude": [
    "module",
    "function",
    "builtin_function_or_method",
    "instance",
    "_Feature"
   ],
   "window_display": false
  }
 },
 "nbformat": 4,
 "nbformat_minor": 4
}
