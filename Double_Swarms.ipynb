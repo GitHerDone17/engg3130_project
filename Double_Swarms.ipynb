{
 "cells": [
  {
   "cell_type": "markdown",
   "metadata": {},
   "source": [
    "# Double Swarms\n",
    "\n",
    "Code examples from [Think Complexity, 2nd edition](https://thinkcomplex.com).\n",
    "\n",
    "Copyright 2016 Allen Downey, [MIT License](http://opensource.org/licenses/MIT)"
   ]
  },
  {
   "cell_type": "markdown",
   "metadata": {},
   "source": [
    "This is an adaptation of Allen Downey's `Boids7.py` to the Jupyter Notebook.\n",
    "\n",
    "Note that `vpython` will not run on Python 3.13."
   ]
  },
  {
   "cell_type": "markdown",
   "metadata": {},
   "source": [
    "Controls:\n",
    "- Double-click: place carrot\n",
    "- Shift-drag: pan\n",
    "- Control-drag: rotate\n",
    "- Alt(Option)-drag: zoom"
   ]
  },
  {
   "cell_type": "code",
   "execution_count": 3,
   "metadata": {
    "ExecuteTime": {
     "end_time": "2025-04-17T02:34:06.822504Z",
     "start_time": "2025-04-17T02:34:06.814960Z"
    }
   },
   "outputs": [],
   "source": [
    "\"\"\" Code example from Think Complexity, by Allen Downey.\n",
    "\n",
    "Original code by Matt Aasted, modified by Allen Downey.\n",
    "\n",
    "Based on Reynolds, \"Flocks, Herds and Schools\" and\n",
    "Flake, \"The Computational Beauty of Nature.\"\n",
    "\n",
    "Copyright 2011 Allen B. Downey.\n",
    "Distributed under the MIT License.\n",
    "\"\"\"\n",
    "try:\n",
    "    from vpython import *\n",
    "except:\n",
    "    print(\"This program requires VPython 7, which you can read about\")\n",
    "    print(\"at http://vpython.org/.  If you are using Anaconda, you can\")\n",
    "    print(\"install VPython by running the following on the command line:\")\n",
    "    print(\"conda install -c vpython vpython\")\n",
    "    raise ImportError\n",
    "\n",
    "import numpy as np\n",
    "from time import time\n",
    "import random"
   ]
  },
  {
   "cell_type": "markdown",
   "metadata": {},
   "source": [
    "Note that the canvas will be placed immediately above this cell (i.e. you may need to scroll up after executing the cells below)."
   ]
  },
  {
   "cell_type": "code",
   "execution_count": 4,
   "metadata": {
    "ExecuteTime": {
     "end_time": "2025-04-17T02:34:09.300373Z",
     "start_time": "2025-04-17T02:34:09.255432Z"
    }
   },
   "outputs": [],
   "source": [
    "null_vector = vector(0,0,0)\n",
    "\n",
    "\n",
    "def random_vector(a, b):\n",
    "    \"\"\"Create a vector with each element uniformly distributed in [a, b).\"\"\"\n",
    "    coords = np.random.uniform(a, b, size=3)\n",
    "    return vector(*coords)\n",
    "\n",
    "\n",
    "def limit_vector(vect):\n",
    "    \"\"\"If the magnitude is greater than 1, set it to 1\"\"\"\n",
    "    if vect.mag > 1:\n",
    "        vect.mag = 1\n",
    "    return vect\n",
    "\n",
    "def draw_wireframe_box(center, size, color=color.black):\n",
    "    s = size / 2\n",
    "    corners = [vector(x,y,z) for x in (-s,s) for y in (-s,s) for z in (-s,s)]\n",
    "    edges = [\n",
    "        (0,1), (0,2), (0,4), (1,3), (1,5), (2,3), (2,6), (3,7),\n",
    "        (4,5), (4,6), (5,7), (6,7)\n",
    "    ]\n",
    "    for i, j in edges:\n",
    "        curve(pos=[center + corners[i], center + corners[j]], color=color)\n",
    "\n",
    "def random_pos():\n",
    "    return vector(*np.random.uniform(-size, size, size=3))\n",
    "\n",
    "class Boid(cone):\n",
    "    \"\"\"A Boid is a VPython cone with a velocity and an axis.\"\"\"\n",
    "\n",
    "    def __init__(self, radius=0.03, length=0.1):\n",
    "        corner = vector(-size + 0.5, -size + 0.5, -size + 0.5)\n",
    "        jitter = np.random.uniform(0, 0.5, size=3)  # Small offset so they’re not overlapping\n",
    "        pos = corner + vector(*jitter)\n",
    "        self.vel = random_vector(0, 1).norm()\n",
    "        cone.__init__(self, pos=pos, radius=radius, length=length, color=color.blue)\n",
    "        self.axis = length * self.vel\n",
    "\n",
    "    def get_neighbors(self, boids, radius, angle):\n",
    "        \"\"\"Return a list of neighbors within a field of view.\n",
    "\n",
    "        boids: list of boids\n",
    "        radius: field of view radius\n",
    "        angle: field of view angle in radians\n",
    "\n",
    "        returns: list of Boid\n",
    "        \"\"\"\n",
    "        neighbors = []\n",
    "        for boid in boids:\n",
    "            if boid is self:\n",
    "                continue\n",
    "            offset = boid.pos - self.pos\n",
    "\n",
    "            # if not in range, skip it\n",
    "            if offset.mag > radius:\n",
    "                continue\n",
    "\n",
    "            # if not within viewing angle, skip it\n",
    "            diff = self.vel.diff_angle(offset)\n",
    "            if abs(diff) > angle:\n",
    "                continue\n",
    "\n",
    "            # otherwise add it to the list\n",
    "            neighbors.append(boid)\n",
    "\n",
    "        return neighbors\n",
    "\n",
    "    def center(self, boids, radius=1, angle=1):\n",
    "        \"\"\"Find the center of mass of other boids in range and\n",
    "        return a vector pointing toward it.\"\"\"\n",
    "        neighbors = self.get_neighbors(boids, radius, angle)\n",
    "        vecs = [boid.pos for boid in neighbors]\n",
    "        return self.vector_toward_center(vecs)\n",
    "\n",
    "    def vector_toward_center(self, vecs):\n",
    "        \"\"\"Vector from self to the mean of vecs.\n",
    "\n",
    "        vecs: sequence of vector\n",
    "\n",
    "        returns: Vector\n",
    "        \"\"\"\n",
    "        if vecs:\n",
    "            center = np.mean(vecs)\n",
    "            toward = vector(center - self.pos)\n",
    "            return limit_vector(toward)\n",
    "        else:\n",
    "            return null_vector\n",
    "\n",
    "    def avoid(self, boids, carrot, obstacles=None, radius=0.2, angle=np.pi):\n",
    "        \"\"\"Find the center of mass of all objects in range and\n",
    "        return a vector in the opposite direction, with magnitude\n",
    "        proportional to the inverse of the distance (up to a limit).\"\"\"\n",
    "        objects = boids[:]\n",
    "        if carrot:\n",
    "            objects.append(carrot)\n",
    "        if obstacles:\n",
    "            objects.extend(obstacles)\n",
    "            \n",
    "        neighbors = self.get_neighbors(objects, radius, angle)\n",
    "        vecs = [obj.pos for obj in neighbors]\n",
    "        return -self.vector_toward_center(vecs)\n",
    "\n",
    "    def align(self, boids, radius=0.5, angle=1):\n",
    "        \"\"\"Return the average heading of other boids in range.\n",
    "\n",
    "        boids: list of Boids\n",
    "        \"\"\"\n",
    "        neighbors = self.get_neighbors(boids, radius, angle)\n",
    "        vecs = [boid.vel for boid in neighbors]\n",
    "        return self.vector_toward_center(vecs)\n",
    "\n",
    "    def love(self, carrot):\n",
    "        \"\"\"Returns a vector pointing toward the carrot.\"\"\"\n",
    "        toward = carrot.pos - self.pos\n",
    "        return limit_vector(toward)\n",
    "\n",
    "    def set_goal(self, boids, carrot, obstacles=None):\n",
    "        \"\"\"Sets the goal to be the weighted sum of the goal vectors.\"\"\"\n",
    "\n",
    "        # Separate avoidance for boids and for other obstacles\n",
    "        avoid_boids = self.avoid(boids, None, radius=0.2, angle=np.pi)\n",
    "        avoid_others = self.avoid([], carrot, obstacles, radius=0.5, angle=np.pi)\n",
    "\n",
    "        # weights\n",
    "        w_avoid_boids = 20  # Strong repulsion from other boids\n",
    "        w_avoid_others = 10\n",
    "        w_center = 2\n",
    "        w_align = 1\n",
    "        w_love = 10\n",
    "\n",
    "        self.goal = (\n",
    "            w_avoid_boids * avoid_boids +\n",
    "            w_avoid_others * avoid_others +\n",
    "            w_center * self.center(boids) +\n",
    "            w_align * self.align(boids) +\n",
    "            w_love * self.love(carrot)\n",
    "        )\n",
    "        self.goal.mag = 1\n",
    "\n",
    "    def move(self, mu=0.2, dt=0.1, bounds=3, obstacles=None):\n",
    "        \"\"\"Update the velocity, position and axis vectors.\n",
    "\n",
    "        mu: how fast the boids can turn (maneuverability).\n",
    "        dt: time step\n",
    "        \"\"\"\n",
    "        \n",
    "        self.vel = (1-mu) * self.vel + mu * self.goal\n",
    "        self.vel.mag = 1\n",
    "        self.pos += dt * self.vel\n",
    "        self.axis = self.length * self.vel\n",
    "        # Bounce off the walls (in x, y, z directions)\n",
    "        for axis in ['x', 'y', 'z']:\n",
    "            if abs(getattr(self.pos, axis)) > bounds:\n",
    "                # Invert velocity on that axis\n",
    "                setattr(self.vel, axis, -getattr(self.vel, axis))\n",
    "                # Move the boid back inside the bounds\n",
    "                setattr(self.pos, axis, np.sign(getattr(self.pos, axis)) * bounds)\n",
    "        if obstacles:\n",
    "            for obstacle in obstacles:\n",
    "                obs_min = obstacle.pos - obstacle.size / 2\n",
    "                obs_max = obstacle.pos + obstacle.size / 2\n",
    "                inside = all(getattr(self.pos, axis) > getattr(obs_min, axis) and\n",
    "                             getattr(self.pos, axis) < getattr(obs_max, axis)\n",
    "                             for axis in ['x', 'y', 'z'])\n",
    "\n",
    "                if inside:\n",
    "                    escape_dirs = {}\n",
    "                    for axis in ['x', 'y', 'z']:\n",
    "                        dist_to_min = abs(getattr(self.pos, axis) - getattr(obs_min, axis))\n",
    "                        dist_to_max = abs(getattr(obs_max, axis) - getattr(self.pos, axis))\n",
    "                        escape_dirs[axis] = min(dist_to_min, dist_to_max)\n",
    "\n",
    "                    exit_axis = min(escape_dirs, key=escape_dirs.get)\n",
    "                    setattr(self.vel, exit_axis, -getattr(self.vel, exit_axis))\n",
    "                    if getattr(self.pos, exit_axis) < getattr(obstacle.pos, exit_axis):\n",
    "                        setattr(self.pos, exit_axis, getattr(obs_min, exit_axis) - 0.01)\n",
    "                    else:\n",
    "                        setattr(self.pos, exit_axis, getattr(obs_max, exit_axis) + 0.01)\n",
    "\n",
    "class World(object):\n",
    "\n",
    "    def __init__(self, n=10):\n",
    "        \"\"\"Create n Boids and one carrot.\n",
    "\n",
    "        tracking: indicates whether the carrot follows the mouse\n",
    "        \"\"\"\n",
    "        self.boids = [Boid() for i in range(n)]\n",
    "        self.carrot1 = sphere(pos=random_pos(),\n",
    "                      radius=0.1,\n",
    "                      color=vector(1, 0, 0))  # Red\n",
    "\n",
    "        self.carrot2 = sphere(pos=random_pos(),\n",
    "                      radius=0.1,\n",
    "                      color=vector(0, 1, 0))  # Green\n",
    "\n",
    "        # Start with carrot1 as the active target\n",
    "        self.current_carrot = self.carrot1\n",
    "        self.goal_stage = 1\n",
    "        \n",
    "        # Create 3 random obstacles that don't overlap with carrots\n",
    "        self.obstacles = []\n",
    "        obstacle_count = 3\n",
    "        obstacle_size = vector(2, 2, 2)\n",
    "        \n",
    "        # Try random positions until we get 3 good ones\n",
    "        while len(self.obstacles) < obstacle_count:\n",
    "            rand_pos = vector(\n",
    "                random.uniform(-size + 1, size - 1),\n",
    "                random.uniform(-size + 1, size - 1),\n",
    "                random.uniform(-size + 1, size - 1)\n",
    "            )\n",
    "\n",
    "            # Make sure it's far enough from both carrots\n",
    "            too_close = False\n",
    "            for carrot in [self.carrot1, self.carrot2]:\n",
    "                if mag(rand_pos - carrot.pos) < 2:\n",
    "                    too_close = True\n",
    "                    break\n",
    "            \n",
    "            # Check if too close to existing obstacles\n",
    "            for obs in self.obstacles:\n",
    "                if mag(rand_pos - obs.pos) < 2: # tweak this threshold if needed\n",
    "                    too_close = True \n",
    "                    break\n",
    "                    \n",
    "            if not too_close:\n",
    "                obstacle = box(pos=rand_pos, size=obstacle_size, color=color.gray(0.5), opacity=0.4)\n",
    "                self.obstacles.append(obstacle)\n",
    "        \n",
    "        self.tracking = False\n",
    "        draw_wireframe_box(center=vector(0,0,0), size=2*size)\n",
    "\n",
    "    def step(self):\n",
    "        \"\"\"Compute one time step.\"\"\"\n",
    "        # move the boids\n",
    "        for boid in self.boids:\n",
    "            boid.set_goal(self.boids, self.current_carrot, self.obstacles)\n",
    "            boid.move(bounds=size, obstacles=self.obstacles)\n",
    "        \n",
    "        # if we're tracking, move the carrot\n",
    "        if self.tracking:\n",
    "            self.carrot.pos = scene.mouse.pos"
   ]
  },
  {
   "cell_type": "code",
   "execution_count": 5,
   "metadata": {
    "ExecuteTime": {
     "end_time": "2025-04-17T02:34:31.038257Z",
     "start_time": "2025-04-17T02:34:11.508954Z"
    },
    "scrolled": true
   },
   "outputs": [
    {
     "data": {
      "text/html": [
       "<div id=\"glowscript\" class=\"glowscript\"></div>"
      ],
      "text/plain": [
       "<IPython.core.display.HTML object>"
      ]
     },
     "metadata": {},
     "output_type": "display_data"
    },
    {
     "data": {
      "application/javascript": [
       "if (typeof Jupyter !== \"undefined\") { window.__context = { glowscript_container: $(\"#glowscript\").removeAttr(\"id\")};}else{ element.textContent = ' ';}"
      ],
      "text/plain": [
       "<IPython.core.display.Javascript object>"
      ]
     },
     "metadata": {},
     "output_type": "display_data"
    },
    {
     "data": {
      "application/javascript": [
       "if (typeof Jupyter !== \"undefined\") {require.undef(\"nbextensions/vpython_libraries/glow.min\");}else{element.textContent = ' ';}"
      ],
      "text/plain": [
       "<IPython.core.display.Javascript object>"
      ]
     },
     "metadata": {},
     "output_type": "display_data"
    },
    {
     "data": {
      "application/javascript": [
       "if (typeof Jupyter !== \"undefined\") {require.undef(\"nbextensions/vpython_libraries/glowcomm\");}else{element.textContent = ' ';}"
      ],
      "text/plain": [
       "<IPython.core.display.Javascript object>"
      ]
     },
     "metadata": {},
     "output_type": "display_data"
    },
    {
     "data": {
      "application/javascript": [
       "if (typeof Jupyter !== \"undefined\") {require.undef(\"nbextensions/vpython_libraries/jquery-ui.custom.min\");}else{element.textContent = ' ';}"
      ],
      "text/plain": [
       "<IPython.core.display.Javascript object>"
      ]
     },
     "metadata": {},
     "output_type": "display_data"
    },
    {
     "data": {
      "application/javascript": [
       "if (typeof Jupyter !== \"undefined\") {require([\"nbextensions/vpython_libraries/glow.min\"], function(){console.log(\"GLOW LOADED\");});}else{element.textContent = ' ';}"
      ],
      "text/plain": [
       "<IPython.core.display.Javascript object>"
      ]
     },
     "metadata": {},
     "output_type": "display_data"
    },
    {
     "data": {
      "application/javascript": [
       "if (typeof Jupyter !== \"undefined\") {require([\"nbextensions/vpython_libraries/glowcomm\"], function(){console.log(\"GLOWCOMM LOADED\");});}else{element.textContent = ' ';}"
      ],
      "text/plain": [
       "<IPython.core.display.Javascript object>"
      ]
     },
     "metadata": {},
     "output_type": "display_data"
    },
    {
     "data": {
      "application/javascript": [
       "if (typeof Jupyter !== \"undefined\") {require([\"nbextensions/vpython_libraries/jquery-ui.custom.min\"], function(){console.log(\"JQUERY LOADED\");});}else{element.textContent = ' ';}"
      ],
      "text/plain": [
       "<IPython.core.display.Javascript object>"
      ]
     },
     "metadata": {},
     "output_type": "display_data"
    },
    {
     "name": "stdout",
     "output_type": "stream",
     "text": [
      "Carrot 1 reached in 7.80 seconds.\n",
      "Carrot 2 reached in 16.49 seconds.\n"
     ]
    }
   ],
   "source": [
    "n = 20\n",
    "size = 5\n",
    "scene = canvas()\n",
    "scene.width = 500\n",
    "scene.height = 500\n",
    "scene.background = color.white\n",
    "\n",
    "world = World(n)\n",
    "scene.center = vector(0, 0, 0)\n",
    "scene.autoscale = False\n",
    "\n",
    "def toggle_tracking(evt):\n",
    "    \"\"\"If we're currently tracking, turn it off, and vice versa.\n",
    "    \"\"\"\n",
    "    world.tracking = not world.tracking\n",
    "\n",
    "# when the user clicks, toggle tracking.\n",
    "scene.bind('click', toggle_tracking)\n",
    "\n",
    "# Simulation start\n",
    "start_time = time()\n",
    "first_leg_done = False\n",
    "second_leg_done = False\n",
    "\n",
    "while 1:\n",
    "    rate(10)\n",
    "    world.step()\n",
    "\n",
    "    for boid in world.boids:\n",
    "        if not first_leg_done and mag(boid.pos - world.carrot1.pos) < 0.2:\n",
    "            t1 = time()\n",
    "            print(f\"Carrot 1 reached in {t1 - start_time:.2f} seconds.\")\n",
    "            world.current_carrot = world.carrot2\n",
    "            first_leg_done = True\n",
    "            break\n",
    "\n",
    "        elif first_leg_done and not second_leg_done and mag(boid.pos - world.carrot2.pos) < 0.2:\n",
    "            t2 = time()\n",
    "            print(f\"Carrot 2 reached in {t2 - start_time:.2f} seconds.\")\n",
    "            second_leg_done = True\n",
    "            break\n",
    "\n",
    "    if second_leg_done:\n",
    "        break\n"
   ]
  },
  {
   "cell_type": "code",
   "execution_count": 6,
   "metadata": {
    "ExecuteTime": {
     "end_time": "2025-04-17T02:34:33.697839Z",
     "start_time": "2025-04-17T02:34:33.678352Z"
    }
   },
   "outputs": [],
   "source": [
    "class Boid2(Boid):\n",
    "    \"\"\"A second type of boid that starts from the opposite corner and is a different color.\"\"\"\n",
    "\n",
    "    def __init__(self, radius=0.03, length=0.1):\n",
    "        # Start in bottom-back-right corner\n",
    "        start_corner = vector(size - 0.5, -size + 0.5, size - 0.5)\n",
    "        jitter = np.random.uniform(0, 0.5, size=3)\n",
    "        pos = start_corner + vector(*jitter)\n",
    "        self.vel = random_vector(0, 1).norm()\n",
    "        # Use orange color for this swarm\n",
    "        cone.__init__(self, pos=pos, radius=radius, length=length, color=color.orange)\n",
    "        self.axis = length * self.vel\n",
    "        \n",
    "class World2(World):\n",
    "    def __init__(self, n=10):\n",
    "        self.boids1 = [Boid() for _ in range(n)]\n",
    "        self.boids2 = [Boid2() for _ in range(n)]\n",
    "        self.all_boids = self.boids1 + self.boids2\n",
    "\n",
    "        self.carrot1a = sphere(pos=random_pos(), radius=0.1, color=vector(1, 0, 0))  # Red\n",
    "        self.carrot2a = sphere(pos=random_pos(), radius=0.1, color=vector(0, 1, 0))  # Green\n",
    "\n",
    "        self.carrot1b = self.carrot1a\n",
    "        self.carrot2b = self.carrot2a\n",
    "\n",
    "        # Independent goal tracking\n",
    "        self.current_carrot1 = self.carrot1a  # For boids1\n",
    "        self.current_carrot2 = self.carrot1b  # For boids2\n",
    "\n",
    "        self.obstacles = []\n",
    "        obstacle_count = 3\n",
    "        obstacle_size = vector(2, 2, 2)\n",
    "\n",
    "        # List of shape functions to randomly choose from\n",
    "        obstacle_shapes = ['box', 'sphere', 'pyramid', 'cone', 'ellipsoid']\n",
    "\n",
    "        while len(self.obstacles) < obstacle_count:\n",
    "            rand_pos = vector(\n",
    "                random.uniform(-size + 1, size - 1),\n",
    "                random.uniform(-size + 1, size - 1),\n",
    "                random.uniform(-size + 1, size - 1)\n",
    "            )\n",
    "\n",
    "            too_close = False\n",
    "            for carrot in [self.carrot1a, self.carrot2a, self.carrot1b, self.carrot2b]:\n",
    "                if mag(rand_pos - carrot.pos) < 2:\n",
    "                    too_close = True\n",
    "                    break\n",
    "            for obs in self.obstacles:\n",
    "                if mag(rand_pos - obs.pos) < 2:\n",
    "                    too_close = True\n",
    "                    break\n",
    "\n",
    "            if not too_close:\n",
    "                shape = random.choice(obstacle_shapes)\n",
    "                if shape == 'box':\n",
    "                    obstacle = box(pos=rand_pos, size=obstacle_size, color=color.gray(0.5), opacity=0.4)\n",
    "                elif shape == 'sphere':\n",
    "                    obstacle = sphere(pos=rand_pos, radius=obstacle_size.x / 2, color=color.cyan, opacity=0.4)\n",
    "                elif shape == 'pyramid':\n",
    "                    obstacle = pyramid(pos=rand_pos, size=obstacle_size, color=color.green, opacity=0.4)\n",
    "                elif shape == 'cone':\n",
    "                    obstacle = cone(pos=rand_pos, axis=vector(0, obstacle_size.y, 0), radius=obstacle_size.x / 2,\n",
    "                                    color=color.orange, opacity=0.4)\n",
    "                elif shape == 'ellipsoid':\n",
    "                    obstacle = ellipsoid(pos=rand_pos, length=obstacle_size.z, height=obstacle_size.y,\n",
    "                                         width=obstacle_size.x, color=color.purple, opacity=0.4)\n",
    "\n",
    "                self.obstacles.append(obstacle)\n",
    "        \n",
    "        self.tracking = False\n",
    "        draw_wireframe_box(center=vector(0, 0, 0), size=2 * size)\n",
    "\n",
    "    def step(self):\n",
    "        for boid in self.boids1:\n",
    "            boid.set_goal(self.boids1, self.current_carrot1, self.obstacles)\n",
    "            boid.move(bounds=size, obstacles=self.obstacles)\n",
    "\n",
    "        for boid in self.boids2:\n",
    "            boid.set_goal(self.boids2, self.current_carrot2, self.obstacles)\n",
    "            boid.move(bounds=size, obstacles=self.obstacles)\n"
   ]
  },
  {
   "cell_type": "code",
   "execution_count": 7,
   "metadata": {
    "ExecuteTime": {
     "end_time": "2025-04-17T02:34:47.998287Z",
     "start_time": "2025-04-17T02:34:36.577824Z"
    }
   },
   "outputs": [
    {
     "data": {
      "text/html": [
       "<div id=\"glowscript\" class=\"glowscript\"></div>"
      ],
      "text/plain": [
       "<IPython.core.display.HTML object>"
      ]
     },
     "metadata": {},
     "output_type": "display_data"
    },
    {
     "data": {
      "application/javascript": [
       "if (typeof Jupyter !== \"undefined\") { window.__context = { glowscript_container: $(\"#glowscript\").removeAttr(\"id\")};}else{ element.textContent = ' ';}"
      ],
      "text/plain": [
       "<IPython.core.display.Javascript object>"
      ]
     },
     "metadata": {},
     "output_type": "display_data"
    },
    {
     "name": "stdout",
     "output_type": "stream",
     "text": [
      "\n",
      "--- Final Timing Summary ---\n",
      "\n",
      "Carrot 1:\n",
      "  Swarm 1: 8.59 seconds\n",
      "  Swarm 2: 6.23 seconds\n",
      "  🏁 Swarm 2 was faster\n",
      "\n",
      "Carrot 2:\n",
      "  Swarm 1: 11.37 seconds\n",
      "  Swarm 2: 9.02 seconds\n",
      "  🏁 Swarm 2 was faster\n"
     ]
    }
   ],
   "source": [
    "n = 20\n",
    "size = 5\n",
    "scene = canvas()\n",
    "scene.width = 500\n",
    "scene.height = 500\n",
    "scene.background = color.white\n",
    "\n",
    "world = World2(n)\n",
    "scene.center = vector(0, 0, 0)\n",
    "scene.autoscale = False\n",
    "\n",
    "def toggle_tracking(evt):\n",
    "    world.tracking = not world.tracking\n",
    "\n",
    "scene.bind('click', toggle_tracking)\n",
    "\n",
    "# Timing flags\n",
    "start_time = time()\n",
    "first_leg_done1 = False\n",
    "second_leg_done1 = False\n",
    "first_leg_done2 = False\n",
    "second_leg_done2 = False\n",
    "\n",
    "# Separate timers for each swarm\n",
    "time_data = {\n",
    "    \"boids1\": {\"carrot1\": None, \"carrot2\": None},\n",
    "    \"boids2\": {\"carrot1\": None, \"carrot2\": None}\n",
    "}\n",
    "\n",
    "# Main loop\n",
    "while True:\n",
    "    rate(10)\n",
    "    world.step()\n",
    "\n",
    "    for boid in world.boids1:\n",
    "        if not first_leg_done1 and mag(boid.pos - world.carrot1a.pos) < 0.2:\n",
    "            t = time()\n",
    "            time_data[\"boids1\"][\"carrot1\"] = t - start_time\n",
    "            first_leg_done1 = True\n",
    "            world.current_carrot1 = world.carrot2a  # Swarm 1 switches to 2nd carrot\n",
    "            break\n",
    "        elif first_leg_done1 and not second_leg_done1 and mag(boid.pos - world.carrot2a.pos) < 0.2:\n",
    "            t = time()\n",
    "            time_data[\"boids1\"][\"carrot2\"] = t - start_time\n",
    "            second_leg_done1 = True\n",
    "            break\n",
    "\n",
    "    for boid in world.boids2:\n",
    "        if not first_leg_done2 and mag(boid.pos - world.carrot1b.pos) < 0.2:\n",
    "            t = time()\n",
    "            time_data[\"boids2\"][\"carrot1\"] = t - start_time\n",
    "            first_leg_done2 = True\n",
    "            world.current_carrot2 = world.carrot2b  # Swarm 2 switches to 2nd carrot\n",
    "            break\n",
    "        elif first_leg_done2 and not second_leg_done2 and mag(boid.pos - world.carrot2b.pos) < 0.2:\n",
    "            t = time()\n",
    "            time_data[\"boids2\"][\"carrot2\"] = t - start_time\n",
    "            second_leg_done2 = True\n",
    "            break\n",
    "\n",
    "    if second_leg_done1 and second_leg_done2:\n",
    "        break\n",
    "\n",
    "# Final summary with comparison\n",
    "print(\"\\n--- Final Timing Summary ---\")\n",
    "\n",
    "for i, carrot_label in enumerate([\"carrot1\", \"carrot2\"], start=1):\n",
    "    t1 = time_data[\"boids1\"][carrot_label]\n",
    "    t2 = time_data[\"boids2\"][carrot_label]\n",
    "\n",
    "    print(f\"\\nCarrot {i}:\")\n",
    "    print(f\"  Swarm 1: {t1:.2f} seconds\")\n",
    "    print(f\"  Swarm 2: {t2:.2f} seconds\")\n",
    "\n",
    "    if t1 < t2:\n",
    "        print(\"  🏁 Swarm 1 was faster\")\n",
    "    elif t2 < t1:\n",
    "        print(\"  🏁 Swarm 2 was faster\")\n",
    "    else:\n",
    "        print(\"  ⏱️ Tie!\")\n"
   ]
  },
  {
   "cell_type": "code",
   "execution_count": null,
   "metadata": {},
   "outputs": [],
   "source": []
  }
 ],
 "metadata": {
  "hide_input": false,
  "kernelspec": {
   "display_name": "Python 3 (ipykernel)",
   "language": "python",
   "name": "python3"
  },
  "language_info": {
   "codemirror_mode": {
    "name": "ipython",
    "version": 3
   },
   "file_extension": ".py",
   "mimetype": "text/x-python",
   "name": "python",
   "nbconvert_exporter": "python",
   "pygments_lexer": "ipython3",
   "version": "3.11.11"
  },
  "nbTranslate": {
   "displayLangs": [
    "*"
   ],
   "hotkey": "alt-t",
   "langInMainMenu": true,
   "sourceLang": "en",
   "targetLang": "fr",
   "useGoogleTranslate": true
  },
  "varInspector": {
   "cols": {
    "lenName": 16,
    "lenType": 16,
    "lenVar": 40
   },
   "kernels_config": {
    "python": {
     "delete_cmd_postfix": "",
     "delete_cmd_prefix": "del ",
     "library": "var_list.py",
     "varRefreshCmd": "print(var_dic_list())"
    },
    "r": {
     "delete_cmd_postfix": ") ",
     "delete_cmd_prefix": "rm(",
     "library": "var_list.r",
     "varRefreshCmd": "cat(var_dic_list()) "
    }
   },
   "types_to_exclude": [
    "module",
    "function",
    "builtin_function_or_method",
    "instance",
    "_Feature"
   ],
   "window_display": false
  }
 },
 "nbformat": 4,
 "nbformat_minor": 4
}
