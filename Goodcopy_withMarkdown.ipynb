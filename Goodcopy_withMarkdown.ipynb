{
 "cells": [
  {
   "cell_type": "markdown",
   "id": "11a32876-f297-4c32-94c7-c83396210537",
   "metadata": {},
   "source": [
    "# ENGG3130 Case Study: Autonomous Drone Simulations using Boids\n",
    "\n",
    "By: Kobe Barette, Liam Holt, Klaire McCarthy, and Thomas Zupan\n",
    "\n",
    "Base Boid class is from [Think Complexity, 2nd edition](https://thinkcomplex.com) and the Boids7nb.ipynd notebook.\n",
    "\n",
    "Note that vpython will not run on Python 3.13.\n",
    "\n",
    "Note: If the simulation animations do not appear in the notebook, restart your environment and they should appear."
   ]
  },
  {
   "cell_type": "code",
   "execution_count": 1,
   "id": "429f7f78-6f78-45da-b720-cdb8e5cf50a2",
   "metadata": {
    "ExecuteTime": {
     "end_time": "2025-04-18T00:05:55.853846Z",
     "start_time": "2025-04-18T00:05:54.486335Z"
    }
   },
   "outputs": [
    {
     "data": {
      "text/html": [
       "<div id=\"glowscript\" class=\"glowscript\"></div>"
      ],
      "text/plain": [
       "<IPython.core.display.HTML object>"
      ]
     },
     "metadata": {},
     "output_type": "display_data"
    },
    {
     "data": {
      "application/javascript": [
       "if (typeof Jupyter !== \"undefined\") { window.__context = { glowscript_container: $(\"#glowscript\").removeAttr(\"id\")};}else{ element.textContent = ' ';}"
      ],
      "text/plain": [
       "<IPython.core.display.Javascript object>"
      ]
     },
     "metadata": {},
     "output_type": "display_data"
    }
   ],
   "source": [
    "try:\n",
    "    from vpython import *\n",
    "except:\n",
    "    print(\"This program requires VPython 7, which you can read about\")\n",
    "    print(\"at http://vpython.org/.  If you are using Anaconda, you can\")\n",
    "    print(\"install VPython by running the following on the command line:\")\n",
    "    print(\"conda install -c vpython vpython\")\n",
    "    raise ImportError\n",
    "\n",
    "\n",
    "import numpy as np\n",
    "from time import time\n",
    "import random\n",
    "import matplotlib.pyplot as plt"
   ]
  },
  {
   "cell_type": "markdown",
   "id": "a000381c-258b-4c9a-9e2a-49e49d9fc9d8",
   "metadata": {},
   "source": [
    "First, we must define the simulation space and replicate a search and rescue scenario:\n",
    "\n",
    "The draw_wireframe_box function defines a visual simulation space."
   ]
  },
  {
   "cell_type": "code",
   "execution_count": 2,
   "id": "9d95bc21-3246-4a40-9634-5d3081033d1e",
   "metadata": {
    "ExecuteTime": {
     "end_time": "2025-04-18T00:05:58.163155Z",
     "start_time": "2025-04-18T00:05:58.124923Z"
    }
   },
   "outputs": [],
   "source": [
    "def draw_wireframe_box(center, size, col=color.black):\n",
    "    width = size\n",
    "    depth = size\n",
    "    height = size\n",
    "\n",
    "    sx, sy, sz = width / 2, height / 2, depth / 2\n",
    "    corners = [vector(x, y, z) for x in (-sx, sx) for y in (-sy, sy) for z in (-sz, sz)]\n",
    "\n",
    "    edges = [(0, 1), (0, 2), (0, 4), (1, 3),\n",
    "             (1, 5), (2, 3), (2, 6), (3, 7),\n",
    "             (4, 5), (4, 6), (5, 7), (6, 7)]\n",
    "\n",
    "    for i, j in edges:\n",
    "        curve(pos=[center + corners[i], center + corners[j]], color=col, radius=0.02)  # thinner lines\n",
    "\n",
    "    # Code to setup the grass space\n",
    "    ground_resolution = 20\n",
    "    tile_w = width / ground_resolution\n",
    "    tile_d = depth / ground_resolution\n",
    "    ground_y = center.y - height / 2 - 0.05\n",
    "\n",
    "    for i in range(ground_resolution):\n",
    "        for j in range(ground_resolution):\n",
    "            gx = -sx + (i + 0.5) * tile_w\n",
    "            gz = -sz + (j + 0.5) * tile_d\n",
    "            box(pos=vector(center.x + gx, ground_y, center.z + gz),\n",
    "                size=vector(tile_w, 0.02, tile_d),\n",
    "                color=color.green)\n",
    "\n",
    "    # Add trees\n",
    "    num_trees = 30\n",
    "    for _ in range(num_trees):\n",
    "        gx = random.uniform(-sx + 0.5, sx - 0.5)\n",
    "        gz = random.uniform(-sz + 0.5, sz - 0.5)\n",
    "        gy = ground_y\n",
    "\n",
    "        trunk_height = random.uniform(0.2, 0.3)\n",
    "        cylinder(pos=vector(center.x + gx, gy, center.z + gz),\n",
    "                 axis=vector(0, trunk_height, 0),\n",
    "                 radius=0.03,\n",
    "                 color=vector(0.55, 0.27, 0.07))  # brown trunk\n",
    "\n",
    "        sphere(pos=vector(center.x + gx, gy + trunk_height + 0.05, center.z + gz),\n",
    "               radius=trunk_height * 0.4,\n",
    "               color=color.green)\n",
    "\n",
    "    # Add a semi-transparent light blue top face\n",
    "    face_color = vector(0.5, 0.8, 1.0)  # light blue\n",
    "    face_opacity = 0.2  # semi-transparent\n",
    "    face_indices = {\n",
    "        'top':    [1, 3, 7, 5],  # y = +sy\n",
    "        'bottom': [0, 2, 6, 4],  # y = -sy\n",
    "        'right':  [4, 5, 7, 6],  # x = +sx\n",
    "        'back':   [0, 4, 5, 1],  # z = -sz\n",
    "        'front':  [2, 6, 7, 3] \n",
    "        # [0, 1, 3, 2]\n",
    "    }\n",
    "\n",
    "    for face in face_indices.values():\n",
    "        quad(\n",
    "            v0=vertex(pos=center + corners[face[0]], color=face_color, opacity=face_opacity),\n",
    "            v1=vertex(pos=center + corners[face[1]], color=face_color, opacity=face_opacity),\n",
    "            v2=vertex(pos=center + corners[face[2]], color=face_color, opacity=face_opacity),\n",
    "            v3=vertex(pos=center + corners[face[3]], color=face_color, opacity=face_opacity)\n",
    "        )\n",
    "\n"
   ]
  },
  {
   "cell_type": "code",
   "execution_count": 3,
   "id": "41b459c7-9e31-4b82-8752-1ed6ae8ea1c3",
   "metadata": {
    "ExecuteTime": {
     "end_time": "2025-04-18T00:05:59.854417Z",
     "start_time": "2025-04-18T00:05:59.843754Z"
    }
   },
   "outputs": [],
   "source": [
    "null_vector = vector(0,0,0)\n",
    "\n",
    "\n",
    "def random_vector(a, b):\n",
    "    \"\"\"Create a vector with each element uniformly distributed in [a, b).\"\"\"\n",
    "    coords = np.random.uniform(a, b, size=3)\n",
    "    return vector(*coords)\n",
    "\n",
    "\n",
    "def limit_vector(vect):\n",
    "    \"\"\"If the magnitude is greater than 1, set it to 1\"\"\"\n",
    "    if vect.mag > 1:\n",
    "        vect.mag = 1\n",
    "    return vect"
   ]
  },
  {
   "cell_type": "markdown",
   "id": "945233cb-4e92-45e0-b440-3378ef1335d3",
   "metadata": {},
   "source": [
    "The Boid class:"
   ]
  },
  {
   "cell_type": "code",
   "execution_count": 4,
   "id": "b93a247f-349b-40f0-89d9-7122f97a5875",
   "metadata": {
    "ExecuteTime": {
     "end_time": "2025-04-18T00:06:01.680960Z",
     "start_time": "2025-04-18T00:06:01.646505Z"
    }
   },
   "outputs": [],
   "source": [
    "class Boid(cone):\n",
    "    \"\"\"A Boid is a VPython cone with a velocity and an axis.\"\"\"\n",
    "\n",
    "    def __init__(self, radius=0.03, length=0.1):\n",
    "        corner = vector(-size, -size, -size)\n",
    "        jitter = np.random.uniform(0, 0.1, size=3)  # Small offset so they’re not overlapping\n",
    "        pos = corner + vector(*jitter)\n",
    "        self.vel = random_vector(0, 1).norm()\n",
    "        cone.__init__(self, pos=pos, radius=radius, length=length, color=color.blue)\n",
    "        self.axis = length * self.vel\n",
    "\n",
    "    def get_neighbors(self, boids, radius, angle):\n",
    "        \"\"\"Return a list of neighbors within a field of view.\n",
    "\n",
    "        boids: list of boids\n",
    "        radius: field of view radius\n",
    "        angle: field of view angle in radians\n",
    "\n",
    "        returns: list of Boid\n",
    "        \"\"\"\n",
    "        neighbors = []\n",
    "        for boid in boids:\n",
    "            if boid is self:\n",
    "                continue\n",
    "            offset = boid.pos - self.pos\n",
    "\n",
    "            # if not in range, skip it\n",
    "            if offset.mag > radius:\n",
    "                continue\n",
    "\n",
    "            # if not within viewing angle, skip it\n",
    "            diff = self.vel.diff_angle(offset)\n",
    "            if abs(diff) > angle:\n",
    "                continue\n",
    "\n",
    "            # otherwise add it to the list\n",
    "            neighbors.append(boid)\n",
    "\n",
    "        return neighbors\n",
    "\n",
    "    def center(self, boids, radius=1, angle=1):\n",
    "        \"\"\"Find the center of mass of other boids in range and\n",
    "        return a vector pointing toward it.\"\"\"\n",
    "        neighbors = self.get_neighbors(boids, radius, angle)\n",
    "        vecs = [boid.pos for boid in neighbors]\n",
    "        return self.vector_toward_center(vecs)\n",
    "\n",
    "    def vector_toward_center(self, vecs):\n",
    "        \"\"\"Vector from self to the mean of vecs.\n",
    "\n",
    "        vecs: sequence of vector\n",
    "\n",
    "        returns: Vector\n",
    "        \"\"\"\n",
    "        if vecs:\n",
    "            center = np.mean(vecs)\n",
    "            toward = vector(center - self.pos)\n",
    "            return limit_vector(toward)\n",
    "        else:\n",
    "            return null_vector\n",
    "\n",
    "    def avoid(self, boids, carrot, radius=0.3, angle=np.pi):\n",
    "        \"\"\"Find the center of mass of all objects in range and\n",
    "        return a vector in the opposite direction, with magnitude\n",
    "        proportional to the inverse of the distance (up to a limit).\"\"\"\n",
    "        objects = boids + [carrot]\n",
    "        neighbors = self.get_neighbors(objects, radius, angle)\n",
    "        vecs = [boid.pos for boid in neighbors]\n",
    "        return -self.vector_toward_center(vecs)\n",
    "\n",
    "    def align(self, boids, radius=0.5, angle=1):\n",
    "        \"\"\"Return the average heading of other boids in range.\n",
    "\n",
    "        boids: list of Boids\n",
    "        \"\"\"\n",
    "        neighbors = self.get_neighbors(boids, radius, angle)\n",
    "        vecs = [boid.vel for boid in neighbors]\n",
    "        return self.vector_toward_center(vecs)\n",
    "\n",
    "    def love(self, carrot):\n",
    "        \"\"\"Returns a vector pointing toward the carrot.\"\"\"\n",
    "        toward = carrot.pos - self.pos\n",
    "        return limit_vector(toward)\n",
    "\n",
    "    def set_goal(self, boids, carrot):\n",
    "        \"\"\"Sets the goal to be the weighted sum of the goal vectors.\"\"\"\n",
    "\n",
    "        # weights for various rules\n",
    "        w_avoid = 10\n",
    "        w_center = 3\n",
    "        w_align = 1\n",
    "        w_love = 10\n",
    "\n",
    "        self.goal = (w_center * self.center(boids) +\n",
    "                     w_avoid * self.avoid(boids, carrot) +\n",
    "                     w_align * self.align(boids) +\n",
    "                     w_love * self.love(carrot))\n",
    "        self.goal.mag = 1\n",
    "\n",
    "    def move(self, mu=0.1, dt=0.1, bounds=3):\n",
    "        \"\"\"Update the velocity, position and axis vectors.\n",
    "\n",
    "        mu: how fast the boids can turn (maneuverability).\n",
    "        dt: time step\n",
    "        \"\"\"\n",
    "\n",
    "        self.vel = (1-mu) * self.vel + mu * self.goal\n",
    "        self.vel.mag = 1\n",
    "        self.pos += dt * self.vel\n",
    "        self.axis = self.length * self.vel\n",
    "        # Bounce off the walls (in x, y, z directions)\n",
    "        for axis in ['x', 'y', 'z']:\n",
    "            if abs(getattr(self.pos, axis)) > bounds:\n",
    "                # Invert velocity on that axis\n",
    "                setattr(self.vel, axis, -getattr(self.vel, axis))\n",
    "                # Move the boid back inside the bounds\n",
    "                setattr(self.pos, axis, np.sign(getattr(self.pos, axis)) * bounds)\n",
    "\n",
    "\n",
    "class World(object):\n",
    "\n",
    "    def __init__(self, n=10):\n",
    "        \"\"\"Create n Boids and one carrot.\n",
    "\n",
    "        tracking: indicates whether the carrot follows the mouse\n",
    "        \"\"\"\n",
    "        self.boids = [Boid() for i in range(n)]\n",
    "        self.carrot = sphere(pos=vector(1,0,0),\n",
    "                             radius=0.1,\n",
    "                             color=vector(1,0,0))\n",
    "        self.tracking = False\n",
    "        draw_wireframe_box(center=vector(0,0,0), size=2*size)\n",
    "\n",
    "    def step(self):\n",
    "        \"\"\"Compute one time step.\"\"\"\n",
    "        # move the boids\n",
    "        for boid in self.boids:\n",
    "            boid.set_goal(self.boids, self.carrot)\n",
    "            boid.move(bounds=size)\n",
    "\n",
    "        # if we're tracking, move the carrot\n",
    "        if self.tracking:\n",
    "            self.carrot.pos = scene.mouse.pos"
   ]
  },
  {
   "cell_type": "markdown",
   "id": "4e9b99dc-c607-48c5-b5f7-e9f4a44504b2",
   "metadata": {},
   "source": [
    "The first simulation: one package placed in the center of the simulation space. We will measure the time it takes to reach the package."
   ]
  },
  {
   "cell_type": "code",
   "execution_count": 5,
   "id": "8e633fd4-ec45-42fd-a067-ecceb7a13ab8",
   "metadata": {
    "ExecuteTime": {
     "end_time": "2025-04-18T00:06:16.587618Z",
     "start_time": "2025-04-18T00:06:02.814920Z"
    }
   },
   "outputs": [
    {
     "data": {
      "text/html": [
       "<div id=\"glowscript\" class=\"glowscript\"></div>"
      ],
      "text/plain": [
       "<IPython.core.display.HTML object>"
      ]
     },
     "metadata": {},
     "output_type": "display_data"
    },
    {
     "data": {
      "application/javascript": [
       "if (typeof Jupyter !== \"undefined\") { window.__context = { glowscript_container: $(\"#glowscript\").removeAttr(\"id\")};}else{ element.textContent = ' ';}"
      ],
      "text/plain": [
       "<IPython.core.display.Javascript object>"
      ]
     },
     "metadata": {},
     "output_type": "display_data"
    },
    {
     "name": "stdout",
     "output_type": "stream",
     "text": [
      "Goal reached in 9.11 seconds!\n"
     ]
    }
   ],
   "source": [
    "n = 20\n",
    "size = 5\n",
    "scene = canvas()\n",
    "scene.background = color.white\n",
    "scene.title = \"First Simulation - Package placed in center\"\n",
    "world = World(n)\n",
    "scene.center = world.carrot.pos\n",
    "scene.autoscale = False\n",
    "\n",
    "def toggle_tracking(evt):\n",
    "    \"\"\"If we're currently tracking, turn it off, and vice versa.\n",
    "    \"\"\"\n",
    "    world.tracking = not world.tracking\n",
    "\n",
    "# when the user clicks, toggle tracking.\n",
    "scene.bind('click', toggle_tracking)\n",
    "\n",
    "# Simulation start\n",
    "start_time = time()\n",
    "\n",
    "while 1:\n",
    "    rate(10)\n",
    "    world.step()\n",
    "\n",
    "    # Check if any boid reached the carrot\n",
    "    for boid in world.boids:\n",
    "        if mag(boid.pos - world.carrot.pos) < 0.2:\n",
    "            end_time = time()\n",
    "            duration = end_time - start_time\n",
    "            print(f\"Goal reached in {duration:.2f} seconds!\")\n",
    "            break\n",
    "    else:\n",
    "        continue  # Continue the while loop if no boid reached\n",
    "    break  # Break the while loop if a boid did reach"
   ]
  },
  {
   "cell_type": "markdown",
   "id": "b7aed22f-7d28-4d12-b8e6-86e972bbef8e",
   "metadata": {},
   "source": [
    "Second simulation: The package will be placed in a random location."
   ]
  },
  {
   "cell_type": "code",
   "execution_count": 6,
   "id": "b2d3cb35-2db3-4ba7-8336-32d51c7d8605",
   "metadata": {
    "ExecuteTime": {
     "end_time": "2025-04-18T00:06:24.462394Z",
     "start_time": "2025-04-18T00:06:18.711868Z"
    }
   },
   "outputs": [
    {
     "data": {
      "text/html": [
       "<div id=\"glowscript\" class=\"glowscript\"></div>"
      ],
      "text/plain": [
       "<IPython.core.display.HTML object>"
      ]
     },
     "metadata": {},
     "output_type": "display_data"
    },
    {
     "data": {
      "application/javascript": [
       "if (typeof Jupyter !== \"undefined\") { window.__context = { glowscript_container: $(\"#glowscript\").removeAttr(\"id\")};}else{ element.textContent = ' ';}"
      ],
      "text/plain": [
       "<IPython.core.display.Javascript object>"
      ]
     },
     "metadata": {},
     "output_type": "display_data"
    },
    {
     "name": "stdout",
     "output_type": "stream",
     "text": [
      "[Second Simulation] Goal reached in 7.49 seconds!\n"
     ]
    }
   ],
   "source": [
    "# Create a new canvas to avoid drawing over the old one\n",
    "scene2 = canvas()\n",
    "scene2.background = color.white\n",
    "scene2.title = \"Second Simulation - Package randomly placed in workspace\"\n",
    "\n",
    "# Define a random position within the wireframe boundaries\n",
    "def random_carrot_position(bound):\n",
    "    margin = 0.5  # avoid putting carrot right at the edge\n",
    "    return vector(\n",
    "        random.uniform(-bound + margin, bound - margin),\n",
    "        random.uniform(-bound + margin, bound - margin),\n",
    "        random.uniform(-bound + margin, bound - margin)\n",
    "    )\n",
    "\n",
    "# Create a new world and assign a random carrot position\n",
    "world2 = World(n)\n",
    "world2.carrot.pos = random_carrot_position(size)\n",
    "\n",
    "# Set the scene center to the center of the world, not the carrot\n",
    "scene2.center = vector(0, 0, 0)  # center of wireframe\n",
    "scene2.autoscale = False\n",
    "\n",
    "# Optional: track the carrot on click\n",
    "def toggle_tracking_2(evt):\n",
    "    world2.tracking = not world2.tracking\n",
    "\n",
    "scene2.bind('click', toggle_tracking_2)\n",
    "\n",
    "# Run the second simulation\n",
    "start_time = time()\n",
    "\n",
    "while True:\n",
    "    rate(10)\n",
    "    world2.step()\n",
    "\n",
    "    for boid in world2.boids:\n",
    "        if mag(boid.pos - world2.carrot.pos) < 0.2:\n",
    "            duration = time() - start_time\n",
    "            print(f\"[Second Simulation] Goal reached in {duration:.2f} seconds!\")\n",
    "            break\n",
    "    else:\n",
    "        continue\n",
    "    break\n",
    "\n"
   ]
  },
  {
   "cell_type": "markdown",
   "id": "f9ddae6b-910b-4f77-8db1-aba7962205c5",
   "metadata": {},
   "source": [
    "Now, we will add a second carrot into the simulation space.\n",
    "\n",
    "To do this we must create a new boid class that inherits from the original but can locate two packages."
   ]
  },
  {
   "cell_type": "code",
   "execution_count": 7,
   "id": "203b1509-8f49-4db0-82a6-a11cd5b33214",
   "metadata": {
    "ExecuteTime": {
     "end_time": "2025-04-18T00:06:52.926289Z",
     "start_time": "2025-04-18T00:06:35.401949Z"
    }
   },
   "outputs": [],
   "source": [
    "class TwoCarrotBoid(Boid):\n",
    "    def avoid(self, boids, carrot, radius=0.3, angle=np.pi):\n",
    "        \"\"\"Original avoid behavior without obstacles\"\"\"\n",
    "        objects = boids + [carrot]\n",
    "        neighbors = self.get_neighbors(objects, radius, angle)\n",
    "        vecs = [obj.pos for obj in neighbors]\n",
    "        return -self.vector_toward_center(vecs)\n",
    "    \n",
    "    def set_goal(self, boids, carrot):\n",
    "        \"\"\"Original goal setting without obstacles\"\"\"\n",
    "        w_avoid = 10\n",
    "        w_center = 3\n",
    "        w_align = 1\n",
    "        w_love = 10\n",
    "        \n",
    "        self.goal = (w_center * self.center(boids) +\n",
    "                     w_avoid * self.avoid(boids, carrot) +\n",
    "                     w_align * self.align(boids) +\n",
    "                     w_love * self.love(carrot))\n",
    "        self.goal.mag = 1"
   ]
  },
  {
   "cell_type": "markdown",
   "id": "6c1ecded-9ea9-4267-963a-96d33e71f874",
   "metadata": {},
   "source": [
    "Next, we must also modify the world class to have a second carrot that is not too close to the first carrot."
   ]
  },
  {
   "cell_type": "code",
   "execution_count": 8,
   "id": "e3050055-4f7b-48df-8f64-809b5aa84de4",
   "metadata": {
    "ExecuteTime": {
     "end_time": "2025-04-18T00:06:52.926289Z",
     "start_time": "2025-04-18T00:06:35.401949Z"
    }
   },
   "outputs": [],
   "source": [
    "class TwoCarrotWorld(World):\n",
    "    def __init__(self, n=10):\n",
    "        self.boids = [TwoCarrotBoid() for _ in range(n)]\n",
    "        # Create two carrots\n",
    "        # First carrot\n",
    "        self.carrot1 = sphere(pos=random_vector(-size+1, size-1),\n",
    "                              radius=0.1, color=vector(1,0,0))\n",
    "        \n",
    "        # Second carrot - ensure minimum distance from first carrot\n",
    "        min_distance = 2  # Minimum distance between carrots\n",
    "        while True:\n",
    "            self.carrot2 = sphere(pos=random_vector(-size+1, size-1),\n",
    "                                  radius=0.1, color=vector(0.5,0,0.5))\n",
    "            if mag(self.carrot1.pos - self.carrot2.pos) >= min_distance:\n",
    "                break\n",
    "        self.current_carrot = self.carrot1\n",
    "        draw_wireframe_box(center=vector(0,0,0), size=2*size)\n",
    "        self.tracking = False\n",
    "\n",
    "    def step(self):\n",
    "        \"\"\"Modified step for two carrots\"\"\"\n",
    "        for boid in self.boids:\n",
    "            boid.set_goal(self.boids, self.current_carrot)\n",
    "            boid.move(bounds=size)"
   ]
  },
  {
   "cell_type": "markdown",
   "id": "61b12da9-23cf-4431-8389-ee469e48cf23",
   "metadata": {},
   "source": [
    "Our next simulation will test having two carrots in the simulation space."
   ]
  },
  {
   "cell_type": "code",
   "execution_count": 9,
   "id": "1cf997f1-f137-4718-8f80-a02ef023758f",
   "metadata": {
    "ExecuteTime": {
     "end_time": "2025-04-18T00:06:52.926289Z",
     "start_time": "2025-04-18T00:06:35.401949Z"
    }
   },
   "outputs": [
    {
     "data": {
      "text/html": [
       "<div id=\"glowscript\" class=\"glowscript\"></div>"
      ],
      "text/plain": [
       "<IPython.core.display.HTML object>"
      ]
     },
     "metadata": {},
     "output_type": "display_data"
    },
    {
     "data": {
      "application/javascript": [
       "if (typeof Jupyter !== \"undefined\") { window.__context = { glowscript_container: $(\"#glowscript\").removeAttr(\"id\")};}else{ element.textContent = ' ';}"
      ],
      "text/plain": [
       "<IPython.core.display.Javascript object>"
      ]
     },
     "metadata": {},
     "output_type": "display_data"
    },
    {
     "name": "stdout",
     "output_type": "stream",
     "text": [
      "First carrot reached in 3.04s\n",
      "Second carrot reached in 12.55s\n"
     ]
    }
   ],
   "source": [
    "n = 20\n",
    "size = 5\n",
    "scene = canvas()\n",
    "scene.background = color.white\n",
    "world = TwoCarrotWorld(n)\n",
    "scene.center = vector(0,0,0)\n",
    "scene.autoscale = False\n",
    "\n",
    "def toggle_tracking(evt):\n",
    "    world.tracking = not world.tracking\n",
    "\n",
    "scene.bind('click', toggle_tracking)\n",
    "\n",
    "start_time = time()\n",
    "first_leg_done = False\n",
    "second_leg_done = False\n",
    "\n",
    "while True:\n",
    "    rate(10)\n",
    "    world.step()\n",
    "    \n",
    "    # Check carrot progression\n",
    "    for boid in world.boids:\n",
    "        if not first_leg_done and mag(boid.pos - world.carrot1.pos) < 0.2:\n",
    "            print(f\"First carrot reached in {time()-start_time:.2f}s\")\n",
    "            world.current_carrot = world.carrot2\n",
    "            first_leg_done = True\n",
    "            break\n",
    "        elif first_leg_done and not second_leg_done and mag(boid.pos - world.carrot2.pos) < 0.2:\n",
    "            print(f\"Second carrot reached in {time()-start_time:.2f}s\")\n",
    "            second_leg_done = True\n",
    "            break\n",
    "    \n",
    "    if second_leg_done:\n",
    "        break"
   ]
  },
  {
   "cell_type": "markdown",
   "id": "406e7493-8d0c-4796-bcb0-a5517c8ef4bb",
   "metadata": {},
   "source": [
    "For the next simulation, we will modify the boid class to be able to avoid an obstacle placed in the simulation space, consider the obstacles in avoidance, and manouver around the obstacles. "
   ]
  },
  {
   "cell_type": "code",
   "execution_count": 10,
   "id": "bb10627f-dd32-4fb3-91f6-fda438292998",
   "metadata": {
    "ExecuteTime": {
     "end_time": "2025-04-18T00:07:16.795077Z",
     "start_time": "2025-04-18T00:06:57.273591Z"
    }
   },
   "outputs": [],
   "source": [
    "class NewBoid(Boid):\n",
    "    def avoid(self, boids, carrot, obstacles=None, radius=0.3, angle=np.pi):\n",
    "        \"\"\"Avoid obstacles and other boids.\"\"\"\n",
    "        objects = boids + [carrot]\n",
    "        if obstacles:\n",
    "            objects.extend(obstacles)\n",
    "        neighbors = self.get_neighbors(objects, radius, angle)\n",
    "        vecs = [obj.pos for obj in neighbors]\n",
    "        return -self.vector_toward_center(vecs)\n",
    "    \n",
    "    def set_goal(self, boids, carrot, obstacles=None):\n",
    "        \"\"\"Set goal considering obstacles.\"\"\"\n",
    "        w_avoid = 10\n",
    "        w_center = 3\n",
    "        w_align = 1\n",
    "        w_love = 10\n",
    "        \n",
    "        self.goal = (w_center * self.center(boids) +\n",
    "                     w_avoid * self.avoid(boids, carrot, obstacles) +\n",
    "                     w_align * self.align(boids) +\n",
    "                     w_love * self.love(carrot))\n",
    "        self.goal.mag = 1\n",
    "    \n",
    "    def move(self, mu=0.1, dt=0.1, bounds=3, obstacles=None):\n",
    "        \"\"\"Handle movement with obstacle collision.\"\"\"\n",
    "        super().move(mu, dt, bounds)\n",
    "        if obstacles:\n",
    "            for obstacle in obstacles:\n",
    "                obs_min = obstacle.pos - obstacle.size/2\n",
    "                obs_max = obstacle.pos + obstacle.size/2\n",
    "                inside = all(getattr(self.pos, axis) > getattr(obs_min, axis) and\n",
    "                             getattr(self.pos, axis) < getattr(obs_max, axis)\n",
    "                             for axis in ['x', 'y', 'z'])\n",
    "                if inside:\n",
    "                    escape_dirs = {}\n",
    "                    for axis in ['x', 'y', 'z']:\n",
    "                        dist_to_min = abs(getattr(self.pos, axis) - getattr(obs_min, axis))\n",
    "                        dist_to_max = abs(getattr(obs_max, axis) - getattr(self.pos, axis))\n",
    "                        escape_dirs[axis] = min(dist_to_min, dist_to_max)\n",
    "                    exit_axis = min(escape_dirs, key=escape_dirs.get)\n",
    "                    setattr(self.vel, exit_axis, -getattr(self.vel, exit_axis))\n",
    "                    if getattr(self.pos, exit_axis) < getattr(obstacle.pos, exit_axis):\n",
    "                        setattr(self.pos, exit_axis, getattr(obs_min, exit_axis) - 0.01)\n",
    "                    else:\n",
    "                        setattr(self.pos, exit_axis, getattr(obs_max, exit_axis) + 0.01)"
   ]
  },
  {
   "cell_type": "markdown",
   "id": "d734b8fb-43ae-4eb7-8252-52b6e233e2a4",
   "metadata": {},
   "source": [
    "We must also modify the world class to be able to handle multiple packages and obstacles."
   ]
  },
  {
   "cell_type": "code",
   "execution_count": 11,
   "id": "85bf8b2f-ce46-4459-8435-55698131b612",
   "metadata": {
    "ExecuteTime": {
     "end_time": "2025-04-18T00:07:16.795077Z",
     "start_time": "2025-04-18T00:06:57.273591Z"
    }
   },
   "outputs": [],
   "source": [
    "# Define NewWorld subclassing World to handle two carrots and obstacles\n",
    "class NewWorld(World):\n",
    "    def __init__(self, n=10):\n",
    "        self.boids = [NewBoid() for _ in range(n)]\n",
    "        # First carrot\n",
    "        self.carrot1 = sphere(pos=random_vector(-size+1, size-1),\n",
    "                              radius=0.1, color=vector(1,0,0))\n",
    "        \n",
    "        # Second carrot - ensure minimum distance from first carrot\n",
    "        min_distance = 2  # Minimum distance between carrots\n",
    "        while True:\n",
    "            self.carrot2 = sphere(pos=random_vector(-size+1, size-1),\n",
    "                                  radius=0.1, color=vector(0.5,0,0.5))\n",
    "            if mag(self.carrot1.pos - self.carrot2.pos) >= min_distance:\n",
    "                break\n",
    "        self.current_carrot = self.carrot1\n",
    "        self.obstacles = []\n",
    "        obstacle_count = 3\n",
    "        obstacle_size = vector(2, 2, 2)\n",
    "        \n",
    "        while len(self.obstacles) < obstacle_count:\n",
    "            rand_pos = random_vector(-size+1, size-1)\n",
    "            too_close = False\n",
    "            for carrot in [self.carrot1, self.carrot2]:\n",
    "                if mag(rand_pos - carrot.pos) < 2:\n",
    "                    too_close = True\n",
    "                    break\n",
    "            for obs in self.obstacles:\n",
    "                if mag(rand_pos - obs.pos) < 2:\n",
    "                    too_close = True\n",
    "                    break\n",
    "            if not too_close:\n",
    "                obstacle = box(pos=rand_pos, size=obstacle_size, color=color.gray(0.5), opacity=0.4)\n",
    "                self.obstacles.append(obstacle)\n",
    "        draw_wireframe_box(center=vector(0,0,0), size=2*size)\n",
    "        self.tracking = False\n",
    "    \n",
    "    def step(self):\n",
    "        for boid in self.boids:\n",
    "            boid.set_goal(self.boids, self.current_carrot, self.obstacles)\n",
    "            boid.move(bounds=size, obstacles=self.obstacles)"
   ]
  },
  {
   "cell_type": "markdown",
   "id": "a9aa699b-5213-458f-b268-925691bd24f4",
   "metadata": {},
   "source": [
    "Now we will simulate a scenario with two packages and three large obstacles in random locations and measure time. "
   ]
  },
  {
   "cell_type": "code",
   "execution_count": 12,
   "id": "458a06ab-324b-48ab-bffb-82da386a2e22",
   "metadata": {
    "ExecuteTime": {
     "end_time": "2025-04-18T00:07:16.795077Z",
     "start_time": "2025-04-18T00:06:57.273591Z"
    }
   },
   "outputs": [
    {
     "data": {
      "text/html": [
       "<div id=\"glowscript\" class=\"glowscript\"></div>"
      ],
      "text/plain": [
       "<IPython.core.display.HTML object>"
      ]
     },
     "metadata": {},
     "output_type": "display_data"
    },
    {
     "data": {
      "application/javascript": [
       "if (typeof Jupyter !== \"undefined\") { window.__context = { glowscript_container: $(\"#glowscript\").removeAttr(\"id\")};}else{ element.textContent = ' ';}"
      ],
      "text/plain": [
       "<IPython.core.display.Javascript object>"
      ]
     },
     "metadata": {},
     "output_type": "display_data"
    },
    {
     "name": "stdout",
     "output_type": "stream",
     "text": [
      "Carrot 1 reached in 13.51s\n",
      "Carrot 2 reached in 17.98s\n"
     ]
    }
   ],
   "source": [
    "# Simulation setup\n",
    "n = 20\n",
    "size = 5\n",
    "scene = canvas()\n",
    "scene.background = color.white\n",
    "world = NewWorld(n)\n",
    "scene.center = vector(0,0,0)\n",
    "scene.autoscale = False\n",
    "\n",
    "def toggle_tracking(evt):\n",
    "    world.tracking = not world.tracking\n",
    "\n",
    "scene.bind('click', toggle_tracking)\n",
    "\n",
    "start_time = time()\n",
    "first_leg_done = False\n",
    "second_leg_done = False\n",
    "\n",
    "while True:\n",
    "    rate(10)\n",
    "    world.step()\n",
    "    \n",
    "    for boid in world.boids:\n",
    "        if not first_leg_done and mag(boid.pos - world.carrot1.pos) < 0.2:\n",
    "            print(f\"Carrot 1 reached in {time()-start_time:.2f}s\")\n",
    "            world.current_carrot = world.carrot2\n",
    "            first_leg_done = True\n",
    "            break\n",
    "        elif first_leg_done and not second_leg_done and mag(boid.pos - world.carrot2.pos) < 0.2:\n",
    "            print(f\"Carrot 2 reached in {time()-start_time:.2f}s\")\n",
    "            second_leg_done = True\n",
    "            break\n",
    "    \n",
    "    if second_leg_done:\n",
    "        break"
   ]
  },
  {
   "cell_type": "markdown",
   "id": "7580e267-b97c-4ed0-b8ec-11ec4a5d9210",
   "metadata": {},
   "source": [
    "Now we will create Boid2(), a class that can be used to create a second swarm of boids.\n",
    "\n",
    "We will also modify the World class to be able to handle the second set of boids."
   ]
  },
  {
   "cell_type": "code",
   "execution_count": 13,
   "id": "1adb7c06-dba6-4208-b492-17181c0ec0da",
   "metadata": {
    "ExecuteTime": {
     "end_time": "2025-04-18T00:07:49.830449Z",
     "start_time": "2025-04-18T00:07:24.594274Z"
    }
   },
   "outputs": [],
   "source": [
    "def random_pos():\n",
    "    return vector(*np.random.uniform(-size, size, size=3))\n",
    "    \n",
    "class Boid2(NewBoid):\n",
    "    \"\"\"A second type of boid that starts from the opposite corner and is a different color.\"\"\"\n",
    "\n",
    "    def __init__(self, radius=0.03, length=0.1):\n",
    "        # Start in bottom-back-right corner\n",
    "        start_corner = vector(size - 0.5, -size + 0.5, size - 0.5)\n",
    "        jitter = np.random.uniform(0, 0.5, size=3)\n",
    "        pos = start_corner + vector(*jitter)\n",
    "        self.vel = random_vector(0, 1).norm()\n",
    "        # Use orange color for this swarm\n",
    "        cone.__init__(self, pos=pos, radius=radius, length=length, color=color.orange)\n",
    "        self.axis = length * self.vel\n",
    "        \n",
    "class World2(NewWorld):\n",
    "    def __init__(self, n=10):\n",
    "        self.boids1 = [NewBoid() for _ in range(n)]\n",
    "        self.boids2 = [Boid2() for _ in range(n)]\n",
    "        self.all_boids = self.boids1 + self.boids2\n",
    "\n",
    "        self.carrot1a = sphere(pos=random_pos(), radius=0.1, color=vector(1, 0, 0))  # Red\n",
    "        self.carrot2a = sphere(pos=random_pos(), radius=0.1, color=vector(0, 1, 0))  # Green\n",
    "\n",
    "        self.carrot1b = self.carrot1a\n",
    "        self.carrot2b = self.carrot2a\n",
    "\n",
    "        # Independent goal tracking\n",
    "        self.current_carrot1 = self.carrot1a  # For boids1\n",
    "        self.current_carrot2 = self.carrot1b  # For boids2\n",
    "\n",
    "        self.obstacles = []\n",
    "        obstacle_count = 3\n",
    "        obstacle_size = vector(2, 2, 2)\n",
    "\n",
    "        # List of shape functions to randomly choose from\n",
    "        obstacle_shapes = ['box', 'sphere', 'pyramid', 'cone', 'ellipsoid']\n",
    "\n",
    "        while len(self.obstacles) < obstacle_count:\n",
    "            rand_pos = vector(\n",
    "                random.uniform(-size + 1, size - 1),\n",
    "                random.uniform(-size + 1, size - 1),\n",
    "                random.uniform(-size + 1, size - 1)\n",
    "            )\n",
    "\n",
    "            too_close = False\n",
    "            for carrot in [self.carrot1a, self.carrot2a, self.carrot1b, self.carrot2b]:\n",
    "                if mag(rand_pos - carrot.pos) < 2:\n",
    "                    too_close = True\n",
    "                    break\n",
    "            for obs in self.obstacles:\n",
    "                if mag(rand_pos - obs.pos) < 2:\n",
    "                    too_close = True\n",
    "                    break\n",
    "\n",
    "            if not too_close:\n",
    "                shape = random.choice(obstacle_shapes)\n",
    "                if shape == 'box':\n",
    "                    obstacle = box(pos=rand_pos, size=obstacle_size, color=color.gray(0.5), opacity=0.4)\n",
    "                elif shape == 'sphere':\n",
    "                    obstacle = sphere(pos=rand_pos, radius=obstacle_size.x / 2, color=color.cyan, opacity=0.4)\n",
    "                elif shape == 'pyramid':\n",
    "                    obstacle = pyramid(pos=rand_pos, size=obstacle_size, color=color.green, opacity=0.4)\n",
    "                elif shape == 'cone':\n",
    "                    obstacle = cone(pos=rand_pos, axis=vector(0, obstacle_size.y, 0), radius=obstacle_size.x / 2,\n",
    "                                    color=color.orange, opacity=0.4)\n",
    "                elif shape == 'ellipsoid':\n",
    "                    obstacle = ellipsoid(pos=rand_pos, length=obstacle_size.z, height=obstacle_size.y,\n",
    "                                         width=obstacle_size.x, color=color.purple, opacity=0.4)\n",
    "\n",
    "                self.obstacles.append(obstacle)\n",
    "        \n",
    "        self.tracking = False\n",
    "        draw_wireframe_box(center=vector(0, 0, 0), size=2 * size)\n",
    "\n",
    "    def step(self):\n",
    "        for boid in self.boids1:\n",
    "            boid.set_goal(self.boids1, self.current_carrot1, self.obstacles)\n",
    "            boid.move(bounds=size, obstacles=self.obstacles)\n",
    "\n",
    "        for boid in self.boids2:\n",
    "            boid.set_goal(self.boids2, self.current_carrot2, self.obstacles)\n",
    "            boid.move(bounds=size, obstacles=self.obstacles)"
   ]
  },
  {
   "cell_type": "markdown",
   "id": "d95a4e65-8f25-4d8c-90b5-239ee1821e0d",
   "metadata": {},
   "source": [
    "Now lets simulate a scenario with two swarms of boids, two packages, and three obstacles."
   ]
  },
  {
   "cell_type": "code",
   "execution_count": 14,
   "id": "4639ef2f-9904-4d78-a648-58b33a4107dd",
   "metadata": {
    "ExecuteTime": {
     "end_time": "2025-04-18T00:07:49.830449Z",
     "start_time": "2025-04-18T00:07:24.594274Z"
    }
   },
   "outputs": [
    {
     "data": {
      "text/html": [
       "<div id=\"glowscript\" class=\"glowscript\"></div>"
      ],
      "text/plain": [
       "<IPython.core.display.HTML object>"
      ]
     },
     "metadata": {},
     "output_type": "display_data"
    },
    {
     "data": {
      "application/javascript": [
       "if (typeof Jupyter !== \"undefined\") { window.__context = { glowscript_container: $(\"#glowscript\").removeAttr(\"id\")};}else{ element.textContent = ' ';}"
      ],
      "text/plain": [
       "<IPython.core.display.Javascript object>"
      ]
     },
     "metadata": {},
     "output_type": "display_data"
    },
    {
     "name": "stdout",
     "output_type": "stream",
     "text": [
      "\n",
      "--- Final Timing Summary ---\n",
      "\n",
      "Carrot 1:\n",
      "  Swarm 1: 12.46 seconds\n",
      "  Swarm 2: 9.00 seconds\n",
      "  🏁 Swarm 2 was faster\n",
      "\n",
      "Carrot 2:\n",
      "  Swarm 1: 14.42 seconds\n",
      "  Swarm 2: 12.11 seconds\n",
      "  🏁 Swarm 2 was faster\n"
     ]
    }
   ],
   "source": [
    "n = 20\n",
    "size = 5\n",
    "scene = canvas()\n",
    "scene.width = 500\n",
    "scene.height = 500\n",
    "scene.background = color.white\n",
    "\n",
    "world = World2(n)\n",
    "scene.center = vector(0, 0, 0)\n",
    "scene.autoscale = False\n",
    "\n",
    "def toggle_tracking(evt):\n",
    "    world.tracking = not world.tracking\n",
    "\n",
    "scene.bind('click', toggle_tracking)\n",
    "\n",
    "# Timing flags\n",
    "start_time = time()\n",
    "first_leg_done1 = False\n",
    "second_leg_done1 = False\n",
    "first_leg_done2 = False\n",
    "second_leg_done2 = False\n",
    "\n",
    "# Separate timers for each swarm\n",
    "time_data = {\n",
    "    \"boids1\": {\"carrot1\": None, \"carrot2\": None},\n",
    "    \"boids2\": {\"carrot1\": None, \"carrot2\": None}\n",
    "}\n",
    "\n",
    "# Main loop\n",
    "while True:\n",
    "    rate(10)\n",
    "    world.step()\n",
    "\n",
    "    for boid in world.boids1:\n",
    "        if not first_leg_done1 and mag(boid.pos - world.carrot1a.pos) < 0.2:\n",
    "            t = time()\n",
    "            time_data[\"boids1\"][\"carrot1\"] = t - start_time\n",
    "            first_leg_done1 = True\n",
    "            world.current_carrot1 = world.carrot2a  # Swarm 1 switches to 2nd carrot\n",
    "            break\n",
    "        elif first_leg_done1 and not second_leg_done1 and mag(boid.pos - world.carrot2a.pos) < 0.2:\n",
    "            t = time()\n",
    "            time_data[\"boids1\"][\"carrot2\"] = t - start_time\n",
    "            second_leg_done1 = True\n",
    "            break\n",
    "\n",
    "    for boid in world.boids2:\n",
    "        if not first_leg_done2 and mag(boid.pos - world.carrot1b.pos) < 0.2:\n",
    "            t = time()\n",
    "            time_data[\"boids2\"][\"carrot1\"] = t - start_time\n",
    "            first_leg_done2 = True\n",
    "            world.current_carrot2 = world.carrot2b  # Swarm 2 switches to 2nd carrot\n",
    "            break\n",
    "        elif first_leg_done2 and not second_leg_done2 and mag(boid.pos - world.carrot2b.pos) < 0.2:\n",
    "            t = time()\n",
    "            time_data[\"boids2\"][\"carrot2\"] = t - start_time\n",
    "            second_leg_done2 = True\n",
    "            break\n",
    "\n",
    "    if second_leg_done1 and second_leg_done2:\n",
    "        break\n",
    "\n",
    "# Final summary with comparison\n",
    "print(\"\\n--- Final Timing Summary ---\")\n",
    "\n",
    "for i, carrot_label in enumerate([\"carrot1\", \"carrot2\"], start=1):\n",
    "    t1 = time_data[\"boids1\"][carrot_label]\n",
    "    t2 = time_data[\"boids2\"][carrot_label]\n",
    "\n",
    "    print(f\"\\nCarrot {i}:\")\n",
    "    print(f\"  Swarm 1: {t1:.2f} seconds\")\n",
    "    print(f\"  Swarm 2: {t2:.2f} seconds\")\n",
    "\n",
    "    if t1 < t2:\n",
    "        print(\"  🏁 Swarm 1 was faster\")\n",
    "    elif t2 < t1:\n",
    "        print(\"  🏁 Swarm 2 was faster\")\n",
    "    else:\n",
    "        print(\"  ⏱️ Tie!\")"
   ]
  },
  {
   "cell_type": "markdown",
   "id": "eb378d33-0d89-4211-8b36-195dfea00afb",
   "metadata": {},
   "source": [
    "We will now run a number of trials and plot the results."
   ]
  },
  {
   "cell_type": "markdown",
   "id": "8a469ccd",
   "metadata": {},
   "source": [
    "### Notice\n",
    "The next cell may take some time to execute, depending on how many 'TRIALS' are specified."
   ]
  },
  {
   "cell_type": "code",
   "execution_count": 15,
   "id": "cc289963-98fd-4b3e-965e-dfb1c058554c",
   "metadata": {
    "ExecuteTime": {
     "end_time": "2025-04-18T00:24:04.977782Z",
     "start_time": "2025-04-18T00:23:59.262279Z"
    }
   },
   "outputs": [
    {
     "data": {
      "text/html": [
       "<div id=\"glowscript\" class=\"glowscript\"></div>"
      ],
      "text/plain": [
       "<IPython.core.display.HTML object>"
      ]
     },
     "metadata": {},
     "output_type": "display_data"
    },
    {
     "data": {
      "application/javascript": [
       "if (typeof Jupyter !== \"undefined\") { window.__context = { glowscript_container: $(\"#glowscript\").removeAttr(\"id\")};}else{ element.textContent = ' ';}"
      ],
      "text/plain": [
       "<IPython.core.display.Javascript object>"
      ]
     },
     "metadata": {},
     "output_type": "display_data"
    }
   ],
   "source": [
    "TRIALS = 5\n",
    "n = 20\n",
    "size = 5\n",
    "scene = canvas()\n",
    "scene.background = color.white\n",
    "\n",
    "results = {\n",
    "    \"boids1_carrot1\": [],\n",
    "    \"boids1_carrot2\": [],\n",
    "    \"boids2_carrot1\": [],\n",
    "    \"boids2_carrot2\": []\n",
    "}\n",
    "\n",
    "for trial in range(TRIALS):\n",
    "    world = World2(n)\n",
    "\n",
    "    start_time = time()\n",
    "    first_leg_done1 = second_leg_done1 = False\n",
    "    first_leg_done2 = second_leg_done2 = False\n",
    "\n",
    "    time_data = {\n",
    "        \"boids1\": {\"carrot1\": None, \"carrot2\": None},\n",
    "        \"boids2\": {\"carrot1\": None, \"carrot2\": None}\n",
    "    }\n",
    "\n",
    "    while True:\n",
    "        rate(10)\n",
    "        world.step()\n",
    "\n",
    "        for boid in world.boids1:\n",
    "            if not first_leg_done1 and mag(boid.pos - world.carrot1a.pos) < 0.2:\n",
    "                t = time()\n",
    "                time_data[\"boids1\"][\"carrot1\"] = t - start_time\n",
    "                first_leg_done1 = True\n",
    "                world.current_carrot1 = world.carrot2a\n",
    "                break\n",
    "            elif first_leg_done1 and not second_leg_done1 and mag(boid.pos - world.carrot2a.pos) < 0.2:\n",
    "                t = time()\n",
    "                time_data[\"boids1\"][\"carrot2\"] = t - start_time\n",
    "                second_leg_done1 = True\n",
    "                break\n",
    "\n",
    "        for boid in world.boids2:\n",
    "            if not first_leg_done2 and mag(boid.pos - world.carrot1b.pos) < 0.2:\n",
    "                t = time()\n",
    "                time_data[\"boids2\"][\"carrot1\"] = t - start_time\n",
    "                first_leg_done2 = True\n",
    "                world.current_carrot2 = world.carrot2b\n",
    "                break\n",
    "            elif first_leg_done2 and not second_leg_done2 and mag(boid.pos - world.carrot2b.pos) < 0.2:\n",
    "                t = time()\n",
    "                time_data[\"boids2\"][\"carrot2\"] = t - start_time\n",
    "                second_leg_done2 = True\n",
    "                break\n",
    "\n",
    "        if second_leg_done1 and second_leg_done2:\n",
    "            break\n",
    "\n",
    "    # Store results\n",
    "    for key in results:\n",
    "        swarm, carrot = key.split('_')\n",
    "        results[key].append(time_data[swarm][carrot])\n"
   ]
  },
  {
   "cell_type": "code",
   "execution_count": 16,
   "id": "9ed74c4e",
   "metadata": {
    "ExecuteTime": {
     "end_time": "2025-04-18T00:23:31.937614Z",
     "start_time": "2025-04-18T00:23:30.184360Z"
    }
   },
   "outputs": [
    {
     "data": {
      "image/png": "[encoded data removed]",
      "text/plain": [
       "<Figure size 1400x600 with 2 Axes>"
      ]
     },
     "metadata": {},
     "output_type": "display_data"
    }
   ],
   "source": [
    "trials = np.arange(1, TRIALS + 1)\n",
    "\n",
    "# Extract data\n",
    "boids1_carrot1 = results[\"boids1_carrot1\"]\n",
    "boids1_carrot2 = results[\"boids1_carrot2\"]\n",
    "boids2_carrot1 = results[\"boids2_carrot1\"]\n",
    "boids2_carrot2 = results[\"boids2_carrot2\"]\n",
    "\n",
    "# Setup figure with two plots side by side\n",
    "fig, (ax1, ax2) = plt.subplots(1, 2, figsize=(14, 6))\n",
    "\n",
    "# ---- Grouped Bar Chart ----\n",
    "width = 0.18\n",
    "\n",
    "x = np.arange(TRIALS)\n",
    "ax1.bar(x - 1.5 * width, boids1_carrot1, width, label='Swarm 1 - Carrot 1', color='skyblue')\n",
    "ax1.bar(x - 0.5 * width, boids1_carrot2, width, label='Swarm 1 - Carrot 2', color='dodgerblue')\n",
    "ax1.bar(x + 0.5 * width, boids2_carrot1, width, label='Swarm 2 - Carrot 1', color='lightcoral')\n",
    "ax1.bar(x + 1.5 * width, boids2_carrot2, width, label='Swarm 2 - Carrot 2', color='indianred')\n",
    "\n",
    "ax1.set_title(\"Swarm Performance (Bar Chart)\")\n",
    "ax1.set_xlabel(\"Trial\")\n",
    "ax1.set_ylabel(\"Time to Reach Carrot (s)\")\n",
    "ax1.set_xticks(x)\n",
    "ax1.set_xticklabels([f\"Trial {i}\" for i in trials])\n",
    "ax1.legend()\n",
    "\n",
    "# ---- Line Plot ----\n",
    "ax2.plot(trials, boids1_carrot1, marker='o', label='Swarm 1 - Carrot 1', color='skyblue')\n",
    "ax2.plot(trials, boids1_carrot2, marker='o', label='Swarm 1 - Carrot 2', color='dodgerblue')\n",
    "ax2.plot(trials, boids2_carrot1, marker='o', label='Swarm 2 - Carrot 1', color='lightcoral')\n",
    "ax2.plot(trials, boids2_carrot2, marker='o', label='Swarm 2 - Carrot 2', color='indianred')\n",
    "\n",
    "ax2.set_title(\"Swarm Performance (Line Plot)\")\n",
    "ax2.set_xlabel(\"Trial\")\n",
    "ax2.set_ylabel(\"Time to Reach Carrot (s)\")\n",
    "ax2.set_xticks(trials)\n",
    "ax2.legend()\n",
    "\n",
    "plt.tight_layout()\n",
    "plt.show()\n",
    "\n"
   ]
  },
  {
   "cell_type": "markdown",
   "id": "3a719b7b-f463-4fa0-94ca-684d097d732d",
   "metadata": {},
   "source": [
    "It can be seen that carrot 2 is on average harder to reach."
   ]
  },
  {
   "cell_type": "code",
   "execution_count": null,
   "id": "0341fa9e-1b69-4df1-838a-32a7b5cc0377",
   "metadata": {},
   "outputs": [],
   "source": []
  }
 ],
 "metadata": {
  "hide_input": false,
  "kernelspec": {
   "display_name": "Python 3 (ipykernel)",
   "language": "python",
   "name": "python3"
  },
  "language_info": {
   "codemirror_mode": {
    "name": "ipython",
    "version": 3
   },
   "file_extension": ".py",
   "mimetype": "text/x-python",
   "name": "python",
   "nbconvert_exporter": "python",
   "pygments_lexer": "ipython3",
   "version": "3.12.8"
  },
  "nbTranslate": {
   "displayLangs": [
    "*"
   ],
   "hotkey": "alt-t",
   "langInMainMenu": true,
   "sourceLang": "en",
   "targetLang": "fr",
   "useGoogleTranslate": true
  },
  "varInspector": {
   "cols": {
    "lenName": 16,
    "lenType": 16,
    "lenVar": 40
   },
   "kernels_config": {
    "python": {
     "delete_cmd_postfix": "",
     "delete_cmd_prefix": "del ",
     "library": "var_list.py",
     "varRefreshCmd": "print(var_dic_list())"
    },
    "r": {
     "delete_cmd_postfix": ") ",
     "delete_cmd_prefix": "rm(",
     "library": "var_list.r",
     "varRefreshCmd": "cat(var_dic_list()) "
    }
   },
   "types_to_exclude": [
    "module",
    "function",
    "builtin_function_or_method",
    "instance",
    "_Feature"
   ],
   "window_display": false
  }
 },
 "nbformat": 4,
 "nbformat_minor": 5
}
